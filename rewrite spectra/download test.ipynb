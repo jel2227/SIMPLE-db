{
 "cells": [
  {
   "cell_type": "markdown",
   "id": "009487db",
   "metadata": {},
   "source": [
    "import astropy.io.fits as fits\n",
    "from astropy.table import Table\n",
    "\n",
    "target_url = 'https://bdnyc.s3.amazonaws.com/ISAAC/2M0032_ISAACspec_JHK_nocosmics.fits'\n",
    "\n",
    "dat = fits.open(target_url)\n",
    "dat\n",
    "Table(dat[0].data)"
   ]
  },
  {
   "cell_type": "markdown",
   "id": "5791929d",
   "metadata": {},
   "source": [
    "import astropy.io.fits as fits\n",
    "from astropy.table import Table\n",
    "\n",
    "target_url = 'https://bdnyc.s3.amazonaws.com/ISAAC/ChaJ1305_ISAACspec_JHK_nocosmics_2_dered.fits'\n",
    "dat = fits.open(target_url)\n"
   ]
  },
  {
   "cell_type": "code",
   "execution_count": 47,
   "id": "100d69c8",
   "metadata": {},
   "outputs": [
    {
     "name": "stdout",
     "output_type": "stream",
     "text": [
      "[(1.1      , 3.8379937e-19) (1.1001   , 3.8154512e-19)\n",
      " (1.1002   , 3.8123888e-19) ... (2.4998   , 8.2326159e-20)\n",
      " (2.4998999, 8.1171919e-20) (2.5      , 8.0546706e-20)]\n",
      "[(1.1      , 5.1942441e-20) (1.1001   , 3.4828656e-20)\n",
      " (1.1002   , 2.3270702e-20) ... (2.4998   , 4.4335582e-20)\n",
      " (2.4998999, 3.8284355e-20) (2.5      , 3.1093283e-20)]\n",
      "[(1.1      , 1.7156722e-19) (1.1001   , 1.7316717e-19)\n",
      " (1.1002   , 1.7489921e-19) ... (2.4998   , 0.0000000e+00)\n",
      " (2.4998999, 0.0000000e+00) (2.5      , 0.0000000e+00)]\n",
      "[(1.1      , 1.9561961e-19) (1.1001   , 1.9192498e-19)\n",
      " (1.1002   , 1.8831094e-19) ... (2.4998   , 7.4840246e-19)\n",
      " (2.4998999, 7.9644160e-19) (2.5      , 8.3663048e-19)]\n",
      "[(1.1      , 1.2342008e-19) (1.1001   , 1.2474447e-19)\n",
      " (1.1002   , 1.2767731e-19) ... (2.4998   , 0.0000000e+00)\n",
      " (2.4998999, 0.0000000e+00) (2.5      , 0.0000000e+00)]\n",
      "[(1.1      ,  3.9818735e-19) (1.1001   ,  3.9782383e-19)\n",
      " (1.1002   ,  3.9055327e-19) ... (2.4998   ,  1.3286428e-20)\n",
      " (2.4998999,  1.1081965e-20) (2.5      , -1.0362079e-18)]\n"
     ]
    }
   ],
   "source": [
    "import astropy.io.fits as fits\n",
    "from astropy.table import Table\n",
    "import numpy as np\n",
    "import numpy.ma as ma\n",
    "import os\n",
    "import astropy.units as u\n",
    "from astropy.time import Time\n",
    "from datetime import date\n",
    "from pandas import to_datetime\n",
    "\n",
    "table_file='Manja14_spectra_adjusted.csv'\n",
    "data = Table.read(table_file)\n",
    "original_data_dir = 'ISAAC_Manjavacas2014/' #where the old fits files are\n",
    "fits_data_dir = 'Manj14/' #where we want the new fits files to go \n",
    "\n",
    "#goes through table of data\n",
    "#this is the part where you input values for each variable\n",
    "\n",
    "\n",
    "for row in data:\n",
    "    object = row['Source'] #row is defined so it loops through each row to \n",
    "    #logger.debug(f'source: {object}')\n",
    "    \n",
    "    spectrum_url = row['Spectrum'] #goes to specific column entry finds the url \n",
    "\n",
    "    url_data = fits.getdata(spectrum_url)\n",
    "    spectrum_table = Table(url_data)\n",
    "    \n",
    "    wavelength_unit = u.micron\n",
    "    flux_unit = u.erg/u.cm/u.cm/u.s/u.Angstrom\n",
    "    \n",
    "    dict = {\n",
    "        'VOCLASS' : 'Spectrum-1.0',\n",
    "        'VOPUB' : 'SIMPLE Archive' ,\n",
    "        'title' : 'ISAAC Spectra of Brown Dwarfs from Manjavacas et. al. 2014' ,\n",
    "        'RA' : row['RA'] , #from the vizier catalog, put in csv table\n",
    "        'dec' : row['dec'] , #from the vizier catalog, put in csv table\n",
    "        #'time' : (Time(to_datetime(row['start time'])).jd + Time(to_datetime(row['stop time'])).jd) /2,\n",
    "        'exposure_time' : row['exposure time'] ,\n",
    "        'bandpass' : 'JHK' ,#get from paper\n",
    "        'aperture' :'0.3' ,\n",
    "    \n",
    "        #OTHER KEYWORDS\n",
    "    \n",
    "        'time_start' : Time(to_datetime(row['start time'])).jd , #turns dates into accepetable format then converts to Time object then to MJD\n",
    "        'time_stop' : Time(to_datetime(row['stop time'])).jd , #dates r orginally in month day, year\n",
    "        'bibcode' : '2014A&A...564A..55M' ,\n",
    "        'instrument' : row['instrument'] ,\n",
    "        'obs_date' : to_datetime(row['observation_date']) ,\n",
    "        'author' : 'Manjavacas, E. ; Bonnefoy, M. ; Schlieder, J. E. ; Allard, F. ; Rojo, P. ; Goldman, B. ; Chauvin, G. ; Homeier, D. ; Lodieu, N. ; Henning, T.', \n",
    "        'reference_doi' : '10.1051/0004-6361/201323016'  ,\n",
    "        'telescope' : row['telescope'] ,\n",
    "      #  'history' : history ,\n",
    "        'wavelength' : tuple(spectrum_table['col0'].data) * wavelength_unit , #multiplying everythign by untis to convert\n",
    "        'flux' : tuple(spectrum_table['col1'].data) * flux_unit, # spectrum_table['col1'] * flux_unit, \n",
    "        \n",
    "        } \n",
    "    \n",
    "    spectrum_data_out = Table({'wavelength': spectrum_table['col0'] * wavelength_unit , 'flux':spectrum_table['col1'] * flux_unit }) #TOOK OUT FLUX_UNC\n",
    "    \n",
    "    hdu1 = fits.BinTableHDU(data = spectrum_data_out) \n",
    "    \n",
    "    hdu1.header['EXTNAME'] = 'SPECTRUM' #prints out different headers\n",
    "    hdu1.header.set('Spectrum', str(object), 'Object Name')\n",
    "    \n",
    "    print(hdu1.data)\n",
    "   # print(spectrum_data_out)\n",
    "   #dir(spectrum_table)\n",
    "    #print(spectrum_table)\n",
    "    #spectrum_table.pprint_all()"
   ]
  },
  {
   "cell_type": "code",
   "execution_count": null,
   "id": "80a7909f",
   "metadata": {},
   "outputs": [],
   "source": []
  }
 ],
 "metadata": {
  "kernelspec": {
   "display_name": "Python 3 (ipykernel)",
   "language": "python",
   "name": "python3"
  },
  "language_info": {
   "codemirror_mode": {
    "name": "ipython",
    "version": 3
   },
   "file_extension": ".py",
   "mimetype": "text/x-python",
   "name": "python",
   "nbconvert_exporter": "python",
   "pygments_lexer": "ipython3",
   "version": "3.8.8"
  }
 },
 "nbformat": 4,
 "nbformat_minor": 5
}
