{
 "cells": [
  {
   "cell_type": "code",
   "execution_count": 2,
   "id": "9d4d9ebd",
   "metadata": {},
   "outputs": [],
   "source": [
    "from specutils import Spectrum1D\n",
    "from astropy.nddata import StdDevUncertainty\n",
    "from astropy.io import fits\n",
    "from datetime import date\n",
    "from pandas import to_datetime\n",
    "import pandas as pd\n",
    "#from scripts.ingests.utils import * #scripts do not need anything from ingest\n",
    "import numpy.ma as ma\n",
    "import matplotlib.pyplot as plt\n"
   ]
  },
  {
   "cell_type": "code",
   "execution_count": 3,
   "id": "9f97c67b",
   "metadata": {},
   "outputs": [],
   "source": [
    "#import logging\n",
    "#logger = logging.getLogger('')\n",
    "#logger.setLevel(logging.DEBUG)\n"
   ]
  },
  {
   "cell_type": "code",
   "execution_count": 4,
   "id": "d3c2bffe",
   "metadata": {},
   "outputs": [],
   "source": [
    "# Read in CSV file as Astropy table\n",
    "from astropy.table import Table #need to import astropy.table to get Table to work\n",
    "table_file = 'Manja19_spectra - Sheet1.csv'\n",
    "data = Table.read(table_file)\n",
    "#pull requests have links to these sheets\n",
    "\n",
    "#accesses a data table\n",
    "#print(data.more() )#to view data table but does not work "
   ]
  },
  {
   "cell_type": "code",
   "execution_count": 5,
   "id": "877e204b",
   "metadata": {},
   "outputs": [
    {
     "name": "stdout",
     "output_type": "stream",
     "text": [
      "          Source          ... col14\n",
      "------------------------- ... -----\n",
      "         [BZR99] S Ori 70 ...    --\n",
      "         [BZR99] S Ori 73 ...    --\n",
      "  2MASS J00001354+2554180 ...    --\n",
      "  2MASS J00470038+6803543 ...    --\n",
      "  2MASS J01075242+0041563 ...    --\n",
      "  2MASS J03552337+1133437 ...    --\n",
      "  2MASS J05395200-0059019 ...    --\n",
      "                      ... ...   ...\n",
      "WISEA J163940.84-684739.4 ...    --\n",
      "WISEA J173835.52+273258.8 ...    --\n",
      "WISEA J205628.88+145953.6 ...    --\n",
      "WISEA J220905.75+271143.6 ...    --\n",
      "WISEA J221216.27-693121.6 ...    --\n",
      "WISEA J222055.34-362817.5 ...    --\n",
      "WISEA J235402.79+024014.1 ...    --\n",
      "Length = 77 rows\n"
     ]
    }
   ],
   "source": [
    "#pd.set_option('display.max_rows', None)\n",
    "#df = pd.read_csv('Manja19_spectra - Sheet1.csv')\n",
    "#print(df)\n",
    "#to view the table before I understood how to look at file in astropy\n",
    "print(data)"
   ]
  },
  {
   "cell_type": "code",
   "execution_count": 8,
   "id": "c8094c2a",
   "metadata": {},
   "outputs": [
    {
     "name": "stdout",
     "output_type": "stream",
     "text": [
      "[BZR99] S Ori 70\n",
      "[BZR99] S Ori 73\n",
      "2MASS J00001354+2554180\n",
      "2MASS J00470038+6803543\n",
      "2MASS J01075242+0041563\n",
      "2MASS J03552337+1133437\n",
      "2MASS J05395200-0059019\n",
      "2MASS J05591914-1404488\n",
      "2MASS J06244595-4521548\n",
      "2MASS J08173001-6155158\n",
      "2MASS J09090085+6525275\n",
      "2MASS J10393137+3256263\n",
      "2MASS J11101001+0116130\n",
      "2MASS J12195156+3128497\n",
      "2MASS J13243553+6358281\n",
      "2MASS J16241436+0029158\n",
      "2MASS J16291840+0335371\n",
      "2MASS J16322911+1904407\n",
      "2MASS J17502484-0016151\n",
      "2MASS J17503293+1759042\n",
      "2MASS J18212815+1414010\n",
      "2MASS J21392676+0220226\n",
      "2MASS J22282889-4310262\n",
      "2MASSI J0243137-245329\n",
      "2MASSI J0421072-630602\n",
      "2MASSI J0825196+211552\n",
      "2MASSI J1711457+223204\n",
      "2MASSI J2339101+135230\n",
      "2MASSW J0310599+164816\n",
      "2MASSW J0801405+462850\n",
      "2MASSW J1507476-162738\n",
      "2MASSW J1515008+484742\n",
      "2MASSW J2224438-015852\n",
      "2MUCD 10802\n",
      "CD-352722b\n",
      "CFBDS J214947-040308\n",
      "HD 209458B\n",
      "Kepler-13Ab\n",
      "LP261-75B\n",
      "NAME Luhman 16A\n",
      "NAME Luhman 16B\n",
      "PSO J318.5338-22.8603\n",
      "Ross 458C\n",
      "SDSS J075840.33+324723.4\n",
      "SIMP J013656.5+093347.3\n",
      "TrES-3\n",
      "V* GU Psc B\n",
      "V* HN Peg B\n",
      "WASP-103b\n",
      "WASP-121b\n",
      "WASP-12b\n",
      "WASP-18b\n",
      "WASP-33b\n",
      "WASP-43b\n",
      "WASP-4b\n",
      "WISE J154151.65-225024.9\n",
      "WISEA J032504.52-504403.0\n",
      "WISEA J033515.07+431044.7\n",
      "WISEA J035000.31-565830.5\n",
      "WISEA J035934.07-540154.8\n",
      "WISEA J040443.50-642030.0\n",
      "WISEA J041022.75+150247.9\n",
      "WISEA J053516.87-750024.6\n",
      "WISEA J064723.24-623235.4\n",
      "WISEA J073444.03-715743.8\n",
      "WISEA J082507.37+280548.2\n",
      "WISEA J094306.00+360723.3\n",
      "WISEA J120604.25+840110.5\n",
      "WISEA J140518.32+553421.3\n",
      "WISEA J154214.00+223005.2\n",
      "WISEA J163940.84-684739.4\n",
      "WISEA J173835.52+273258.8\n",
      "WISEA J205628.88+145953.6\n",
      "WISEA J220905.75+271143.6\n",
      "WISEA J221216.27-693121.6\n",
      "WISEA J222055.34-362817.5\n",
      "WISEA J235402.79+024014.1\n"
     ]
    }
   ],
   "source": [
    "import os #need to import to connect to the computer operating system , I think this is used to find and relocate files\n",
    "import astropy.units as u #need to import units to use \n",
    "\n",
    "original_data_dir = 'HST_library_Manjavacas2019/' #got rid of temp_data at begining of directory\n",
    "fits_data_dir = 'Manj19/'\n",
    "#this is where the original data is located and I creaeted a new folder for where to put the converted fits files\n",
    "#Do we start automatically in SIMPLE-db-main bc this is where the notebook is located?\n",
    "\n",
    "for row in data:\n",
    "    object = row['Source'] #row is defined so it loops through each row to \n",
    "    #logger.debug(f'source: {object}')\n",
    "    #print(row['Source'])\n",
    "    spectrum_url = row['Spectrum'] #goes to specific column entry finds the url \n",
    "\n",
    "    file = os.path.basename(spectrum_url) #returns basename of pathname to be used in next line to read each spectrum which is a .csv file\n",
    "    spectrum_table = Table.read(original_data_dir + file, format='ascii')\n",
    "    \n",
    "    obs_date = to_datetime(row['observation_date']) \n",
    "    \n",
    "    \n",
    "    instrument = row['instrument'] \n",
    "    telescope = row['telescope']\n",
    "    author = 'Manjavacas et al 2019, AJ, 157, 101'\n",
    "    reference_doi = '10.3847/1538-3881/aaf88f'\n",
    "    comment = row['spectrum comments']\n",
    "    \n",
    "    print(object)"
   ]
  },
  {
   "cell_type": "code",
   "execution_count": 91,
   "id": "18724b0e",
   "metadata": {},
   "outputs": [],
   "source": [
    "import os #need to import to connect to the computer operating system , I think this is used to find and relocate files\n",
    "import astropy.units as u #need to import units to use \n",
    "\n",
    "original_data_dir = 'HST_library_Manjavacas2019/' #got rid of temp_data at begining of directory\n",
    "fits_data_dir = 'Manj19/'\n",
    "#this is where the original data is located and I creaeted a new folder for where to put the converted fits files\n",
    "#Do we start automatically in SIMPLE-db-main bc this is where the notebook is located?\n",
    "\n",
    "for row in data:\n",
    "    object = row['Source'] #row is defined so it loops through each row to \n",
    "    #logger.debug(f'source: {object}')\n",
    "    #print(row['Source'])\n",
    "    spectrum_url = row['Spectrum'] #goes to specific column entry finds the url \n",
    "\n",
    "    file = os.path.basename(spectrum_url) #returns basename of pathname to be used in next line to read each spectrum which is a .csv file\n",
    "    spectrum_table = Table.read(original_data_dir + file, format='ascii') #makes a table of spectrum to read the file in the format of ascii and uses directory to find it\n",
    "    #logger.debug(f\"{spectrum_url} \\n {file}\")\n",
    "    #so these lines of code find the \n",
    "    \n",
    "    obs_date = to_datetime(row['observation_date']) #locates observation date using pds \n",
    "    #logger.debug(f'obs date: {obs_date}')\n",
    "\n",
    "    instrument = row['instrument'] \n",
    "    telescope = row['telescope']\n",
    "    author = 'Manjavacas et al 2019, AJ, 157, 101'\n",
    "    reference_doi = '10.3847/1538-3881/aaf88f'\n",
    "    comment = row['spectrum comments']\n",
    "\n",
    "    history1 = f'Original file: {file}' #gives orginal .csv name of file\n",
    "    history2 = 'This file generated by SIMPLE-db/scripts/ingests/rewrite_spectra.py' #shows where file came from \n",
    "\n",
    "    wavelength_unit = u.micron  #using astropy to defien units \n",
    "    flux_unit = u.erg/u.cm/u.cm/u.s/u.Angstrom\n",
    "\n",
    "    wavelength = spectrum_table['col1'] * wavelength_unit   #multiplying everythign by untis to convert\n",
    "    flux = spectrum_table['col2'] * flux_unit\n",
    "    flux_unc_class = StdDevUncertainty(spectrum_table['col3'])  #not sure waht this line does\n",
    "    flux_unc = spectrum_table['col3'] * flux_unit  #gives arrays of flux w units \n",
    "\n",
    "    spectrum_data_out = Table({'wavelength': wavelength, 'flux':flux, 'flux_uncertainty':flux_unc}) \n",
    "    #creates a table w wavelenght, flux, and flux uncertainty\n",
    "\n",
    "    \n",
    "    hdu1 = fits.BinTableHDU(data = spectrum_data_out) #puts all the data into hdu1\n",
    "    hdu1.header['EXTNAME'] = 'SPECTRUM' #prints out different headers\n",
    "    hdu1.header.set('Spectrum', str(object), 'Object Name')\n",
    "    # spectrum = Spectrum1D(spectral_axis=wavelength, flux=flux, uncertainty=flux_unc)\n",
    "    \n",
    "    # Build the header\n",
    "    header = fits.Header()\n",
    "    header.set('EXTNAME', 'PRIMARY', 'name of this extension')\n",
    "    # IVOA SpectrumDM keywords REQUIRED\n",
    "    header.set('VOCLASS', 'Spectrum-1.0')\n",
    "    header.set('VOPUB', 'NOT SURE WHAT THIS SHOULD BE')\n",
    "    header.set('TITLE', 'NOT SURE WHAT THIS SHOLUD BE')\n",
    "    header.set('OBJECT', str(object), 'name of observed object')\n",
    "    header.set('RA', 'RA')\n",
    "    header.set('DEC', 'dec')\n",
    "    header.set('TMID', 'time')\n",
    "    header.set('TELAPSE', 'exposure time')\n",
    "    header.set('SPEC_VAL', 'bandpass')\n",
    "    header.set('SPEC_BW', 'bandwidth')\n",
    "    header.set('TDMIN1', min(wavelength).value)\n",
    "    header.set('TDMAX1', max(wavelength).value)\n",
    "    # Other IVOA SpectrumDM keywords\n",
    "    header.set('AUTHOR', 'NOT SURE WHAT THIS SHOLUD BE' )\n",
    "    header.set('DATE', date.today().strftime(\"%Y-%m-%d\"), 'date of file creation')\n",
    "    header.set('INSTRUME', instrument, 'name of instrument')\n",
    "    header.set('DATE-OBS', obs_date.strftime(\"%Y-%m-%d\"), 'date of the observation')\n",
    "    header.set('AUTHOR', author, 'author of the data')\n",
    "    header.set('REFERENC', reference_doi, 'bibliographic reference')\n",
    "    header.set('TELESCOP', telescope, 'name of telescope')\n",
    "    if not ma.is_masked(comment):\n",
    "        header.set('COMMENT', comment)\n",
    "    header.set('HISTORY', history1)\n",
    "    header.set('HISTORY', history2)\n",
    "    \n",
    "    # Associate the header with the spectrum meta\n",
    "    hdu0 = fits.PrimaryHDU(header=header) #puts all the headers into the first hdu \n",
    "\n",
    "    spectrum_mef = fits.HDUList([hdu0,hdu1]) #combines the two hdu into a fits file\n",
    "\n",
    "    file_root = os.path.splitext(file)[0] #split the path name into a pair root and ext so the root is just the ext [0] is the name of the file wihtout the .csv\n",
    "    fits_filename = fits_data_dir + file_root + '.fits' #turns into fits files by putting it in new folder that we defined at begining and adding name of file then .fits\n",
    "    try:\n",
    "        spectrum_mef.writeto(fits_filename, overwrite=True)\n",
    "        # SHOULD BE: spectrum.write(fits_filename, format='tabular-fits', overwrite=True, update_header=True)\n",
    "        #logger.info(f'Wrote {fits_filename}')\n",
    "    except:\n",
    "        raise SimpleError\n",
    "\n",
    "# Read the spectrum back in and check\n",
    "spec1d_fits_rt = fits.open(fits_filename)\n",
    "header_rt = spec1d_fits_rt[0].header\n",
    "spec1d_rt = Spectrum1D.read(fits_filename) #reads the fits file\n",
    "\n"
   ]
  },
  {
   "cell_type": "code",
   "execution_count": null,
   "id": "6c141f2f",
   "metadata": {},
   "outputs": [],
   "source": []
  },
  {
   "cell_type": "code",
   "execution_count": 70,
   "id": "b0218d34",
   "metadata": {},
   "outputs": [
    {
     "data": {
      "image/png": "[encoded data removed]",
      "text/plain": [
       "<Figure size 432x288 with 1 Axes>"
      ]
     },
     "metadata": {
      "needs_background": "light"
     },
     "output_type": "display_data"
    }
   ],
   "source": [
    "wavelength, flux = np.empty(0), np.empty(0)\n",
    "for x in spectrum_table['col1']:\n",
    "    wavelength = np.append(wavelength, x)\n",
    "    \n",
    "for x in spectrum_table['col2']:\n",
    "    flux = np.append(flux, x)\n",
    "    \n",
    "plt.scatter(wavelength, flux)\n",
    "plt.show()"
   ]
  },
  {
   "cell_type": "code",
   "execution_count": null,
   "id": "6ec6be5f",
   "metadata": {},
   "outputs": [],
   "source": [
    "print(flux)"
   ]
  },
  {
   "cell_type": "markdown",
   "id": "69f62fe0",
   "metadata": {},
   "source": [
    "graphing the spectra"
   ]
  },
  {
   "cell_type": "code",
   "execution_count": 67,
   "id": "7fd2edfe",
   "metadata": {},
   "outputs": [],
   "source": [
    "from astropy.io import fits\n",
    "import numpy as np\n",
    "import matplotlib.pyplot as plt"
   ]
  },
  {
   "cell_type": "code",
   "execution_count": 74,
   "id": "5fed7486",
   "metadata": {},
   "outputs": [],
   "source": [
    "fits_image_filename = fits.util.get_testdata_filepath('test0.fits')\n",
    "hdul = fits.open('Manj19/CFBDSIR2.fits')"
   ]
  },
  {
   "cell_type": "code",
   "execution_count": 75,
   "id": "0109ce43",
   "metadata": {},
   "outputs": [
    {
     "name": "stdout",
     "output_type": "stream",
     "text": [
      "Filename: Manj19/CFBDSIR2.fits\n",
      "No.    Name      Ver    Type      Cards   Dimensions   Format\n",
      "  0  PRIMARY       1 PrimaryHDU      26   ()      \n",
      "  1  SPECTRUM      1 BinTableHDU     19   500R x 3C   [D, D, D]   \n",
      "<astropy.io.fits.hdu.image.PrimaryHDU object at 0x7f96684ad580>\n"
     ]
    },
    {
     "data": {
      "image/png": "[encoded data removed]",
      "text/plain": [
       "<Figure size 432x288 with 1 Axes>"
      ]
     },
     "metadata": {
      "needs_background": "light"
     },
     "output_type": "display_data"
    }
   ],
   "source": [
    "from astropy.utils.data import get_pkg_data_filename\n",
    "from astropy.io import fits\n",
    "import numpy as np\n",
    "import matplotlib.pyplot as plt\n",
    "\n",
    "image_file = get_pkg_data_filename('Manj19/CFBDSIR2.fits')\n",
    "#fits.info(image_file)\n",
    "hdul = fits.open(image_file)\n",
    "\n",
    "hdul.info()\n",
    "spectrum = hdul[1].data['wavelength']\n",
    "plt.errorbar(hdul[1].data['wavelength'],hdul[1].data['flux'],hdul[1].data['flux_uncertainty'])\n",
    "\n",
    "\n",
    "print(hdul[0])\n",
    "plt.show()"
   ]
  },
  {
   "cell_type": "code",
   "execution_count": 72,
   "id": "24cd9380",
   "metadata": {},
   "outputs": [
    {
     "ename": "SyntaxError",
     "evalue": "invalid syntax (1649795333.py, line 2)",
     "output_type": "error",
     "traceback": [
      "\u001b[0;36m  Input \u001b[0;32mIn [72]\u001b[0;36m\u001b[0m\n\u001b[0;31m    print(header_rt) check names of headers\u001b[0m\n\u001b[0m                     ^\u001b[0m\n\u001b[0;31mSyntaxError\u001b[0m\u001b[0;31m:\u001b[0m invalid syntax\n"
     ]
    }
   ],
   "source": [
    "#print(spec1d_rt)\n",
    "print(header_rt) check names of headers"
   ]
  }
 ],
 "metadata": {
  "kernelspec": {
   "display_name": "Python 3 (ipykernel)",
   "language": "python",
   "name": "python3"
  },
  "language_info": {
   "codemirror_mode": {
    "name": "ipython",
    "version": 3
   },
   "file_extension": ".py",
   "mimetype": "text/x-python",
   "name": "python",
   "nbconvert_exporter": "python",
   "pygments_lexer": "ipython3",
   "version": "3.8.8"
  }
 },
 "nbformat": 4,
 "nbformat_minor": 5
}
